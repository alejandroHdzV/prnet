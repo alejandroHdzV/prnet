{
 "cells": [
  {
   "cell_type": "code",
   "execution_count": 9,
   "id": "896d43aa",
   "metadata": {},
   "outputs": [],
   "source": [
    "# try:\n",
    "#     from mylab.imports import *\n",
    "#     from mylab.DNSS import *\n",
    "#     from mylab.adam_optimizer import *\n",
    "#     from mylab.open_3d_visualizer_callback import *\n",
    "# except:\n",
    "#     from imports import *\n",
    "#     from DNSS import *\n",
    "#     from adam_optimizer import *\n",
    "#     from open_3d_visualizer_callback import *\n",
    "\n",
    "# import time"
   ]
  },
  {
   "cell_type": "code",
   "execution_count": 10,
   "id": "b84546c5",
   "metadata": {},
   "outputs": [],
   "source": [
    "# DNSS.get_DNSS_pointcloud(source, 2, 0.5, show=False)"
   ]
  },
  {
   "cell_type": "markdown",
   "id": "cc33c0d1",
   "metadata": {},
   "source": [
    "# Synthetic Data from ModelNet40"
   ]
  },
  {
   "cell_type": "code",
   "execution_count": 11,
   "id": "2ad3fc96",
   "metadata": {},
   "outputs": [],
   "source": [
    "############################ CAD VTC SOURCE ############################\n",
    "# PCD_DENSITY = 20000\n",
    "# cad_file_path = 'PCDs/VTC/test_00/Assembly_new.stl'\n",
    "# source = PCUtils.get_pointcloud_from_file(cad_file_path, PCD_DENSITY)\n",
    "\n",
    "# source_base_transformation = np.array([[0.383232,    -0.923652,    -0.000000,   550.000000],\n",
    "#                                        [0.000000,     0.000000,    -1.000000,  -200.000000],\n",
    "#                                        [0.923652,     0.383232,     0.000000,  -100.000000],\n",
    "#                                        [0.000000,     0.000000,     0.000000,     1.000000]])\n",
    "# source.transform(source_base_transformation)"
   ]
  },
  {
   "cell_type": "code",
   "execution_count": 12,
   "id": "78bf3196",
   "metadata": {},
   "outputs": [],
   "source": [
    "# ############################ SOURCE ############################\n",
    "# working_dir = \"PCDs/VTC/3DReconstruction_02/\"\n",
    "# source = reconstructed_workpiece_cropped_removed = PCUtils.get_pointcloud_from_file(f\"{working_dir}vtc_3D_reconstruction.ply\")\n",
    "# source"
   ]
  },
  {
   "cell_type": "code",
   "execution_count": 13,
   "id": "a2622877",
   "metadata": {},
   "outputs": [],
   "source": [
    "# ############################ TARGET ############################\n",
    "# TARGET_ID = 2\n",
    "# working_dir = \"PCDs/VTC/3DReconstruction_04/\"\n",
    "# files_names = [zdf_file for zdf_file in sorted(os.listdir(working_dir)) if zdf_file.lower().endswith('.zdf')]\n",
    "\n",
    "# new_target = PCUtils.get_pointcloud_from_file(working_dir + files_names[TARGET_ID])\n",
    "\n",
    "# baseTz_poses = [MatrixPose.pose_to_matrix([650.0,  0,  700.0,  -90.0,  0,  -180.0]),\n",
    "#                 MatrixPose.pose_to_matrix([650.0,  430.0014067382813,  540.673828125,  -180.0,  0.0,  -138.7890006233789]),\n",
    "#                 MatrixPose.pose_to_matrix([650.0, -430.001, 540.674, 180.0, 0.0, 138.789]),\n",
    "#                 MatrixPose.pose_to_matrix([950.0, 0.0, 550.0, -90.0, 0.0, 150.0]),\n",
    "#                 MatrixPose.pose_to_matrix([500.0, 0.0, 920.0, -90.0, 0.0, -180.0]),\n",
    "#                 MatrixPose.pose_to_matrix([700.0,  0.0,  920.0,  -90.0,  0.0,  -180.0]),\n",
    "#                 MatrixPose.pose_to_matrix([780.0,  0.0,  920.0,  -90.0,  0.0,  -180.0]),\n",
    "#                ]\n",
    "\n",
    "# roi_params = {'corner_x':   200, 'corner_y':    500, 'corner_z':     200,\n",
    "#               'dimension_x':750, 'dimension_y': 1000, 'dimension_z': 200}\n",
    "\n",
    "# new_target.transform(baseTz_poses[TARGET_ID])\n",
    "# new_target = ROI.crop_roi_box(new_target, roi_params)\n",
    "# new_target = new_target.voxel_down_sample(voxel_size = 1)\n",
    "\n",
    "# target = NoiseRemoval.remove_statistical_outlier(new_target, nb_neighbors = 500, std_ratio = 2.0)\n",
    "# #################################################################"
   ]
  },
  {
   "cell_type": "code",
   "execution_count": 14,
   "id": "d8bf1aab",
   "metadata": {},
   "outputs": [],
   "source": [
    "# source_ = copy.deepcopy(source)\n",
    "# target_ = copy.deepcopy(target)"
   ]
  },
  {
   "cell_type": "code",
   "execution_count": 15,
   "id": "0182e254",
   "metadata": {},
   "outputs": [],
   "source": [
    "# source_ = get_DNSS_pointcloud(source, 2, 0.85, show=False)\n",
    "# target_ = get_DNSS_pointcloud(target, 2, 0.85, show=False)"
   ]
  },
  {
   "cell_type": "code",
   "execution_count": 16,
   "id": "2570dc24",
   "metadata": {},
   "outputs": [],
   "source": [
    "# o3d.visualization.draw_geometries([source_, target_,\n",
    "#                                    PCUtils.create_coordinate_frame(25, (0, 0, 0))])"
   ]
  },
  {
   "cell_type": "markdown",
   "id": "8d686029",
   "metadata": {},
   "source": [
    "# RANSAC ICP"
   ]
  },
  {
   "cell_type": "code",
   "execution_count": 17,
   "id": "7b53050c",
   "metadata": {},
   "outputs": [],
   "source": [
    "# source, target, source_pts, target_pts = gen_source_targte()"
   ]
  },
  {
   "cell_type": "code",
   "execution_count": 18,
   "id": "6e2b73e2",
   "metadata": {},
   "outputs": [],
   "source": [
    "# voxel_size = 2.5\n",
    "# source_ = copy.deepcopy(source).voxel_down_sample(voxel_size)\n",
    "# target_ = copy.deepcopy(target).voxel_down_sample(voxel_size)"
   ]
  },
  {
   "cell_type": "code",
   "execution_count": 19,
   "id": "446d6776",
   "metadata": {},
   "outputs": [],
   "source": [
    "# start_time = time.time()\n",
    "\n",
    "# glob_reg_ransac_icp = GlobalRegistrationFPHPICP()\n",
    "# glob_reg_ransac_icp.set_parameters(voxel_size = 5)\n",
    "\n",
    "# # cCReg = ZeroCenterRegistration()\n",
    "# # cCReg.set_parameters(glob_reg_ransac_icp)\n",
    "# # glob_reg_ransac_icp = cCReg\n",
    "\n",
    "# new_reg_trans, _ = glob_reg_ransac_icp.register(source_, target_)\n",
    "\n",
    "# draw_registration_result(source_, target_, new_reg_trans)\n",
    "\n",
    "# # print(\":: Metric: \", RegistrationMetric.get_overlap_ratio(source_, target_, 3, new_reg_trans))\n",
    "# print(\"--- %s seconds ---\" % (time.time() - start_time))"
   ]
  },
  {
   "cell_type": "markdown",
   "id": "f8de46ed",
   "metadata": {},
   "source": [
    "# Go-ICP"
   ]
  },
  {
   "cell_type": "code",
   "execution_count": 20,
   "id": "5335d64c",
   "metadata": {},
   "outputs": [],
   "source": [
    "# source, target, source_pts, target_pts = gen_source_targte()"
   ]
  },
  {
   "cell_type": "code",
   "execution_count": 21,
   "id": "8e3aa150",
   "metadata": {},
   "outputs": [],
   "source": [
    "# o3d.visualization.draw_geometries([source, target,\n",
    "#                                    PCUtils.create_coordinate_frame(25, (0, 0, 0))])"
   ]
  },
  {
   "cell_type": "code",
   "execution_count": 22,
   "id": "cd5e60e6",
   "metadata": {},
   "outputs": [],
   "source": [
    "# naive_reg = NaiveRegistration()\n",
    "# new_reg_trans, _ = naive_reg.register(source_, target_)\n",
    "\n",
    "# draw_registration_result(source_, target_, new_reg_trans)\n",
    "# new_reg_trans"
   ]
  },
  {
   "cell_type": "code",
   "execution_count": 23,
   "id": "58a11a2a",
   "metadata": {},
   "outputs": [],
   "source": [
    "# voxel_size = 10\n",
    "# source_ = copy.deepcopy(source).voxel_down_sample(voxel_size)\n",
    "# target_ = copy.deepcopy(target).voxel_down_sample(voxel_size)"
   ]
  },
  {
   "cell_type": "code",
   "execution_count": 24,
   "id": "1e111ccf",
   "metadata": {},
   "outputs": [],
   "source": [
    "# source_ = copy.deepcopy(source_).transform(new_reg_trans)"
   ]
  },
  {
   "cell_type": "code",
   "execution_count": 25,
   "id": "cdd2bb86",
   "metadata": {},
   "outputs": [],
   "source": [
    "# source_ = copy.deepcopy(source)\n",
    "# target_ = copy.deepcopy(target)\n",
    "\n",
    "# start_time = time.time()\n",
    "\n",
    "# go_icp_reg = GO_ICP()\n",
    "# go_icp_reg.set_parameters(200, 2)\n",
    "# cCReg = ZeroCenterRegistration()\n",
    "# cCReg.set_parameters(go_icp_reg)\n",
    "\n",
    "# new_reg_trans, _ = cCReg.register(copy.deepcopy(source_), copy.deepcopy(target_))\n",
    "\n",
    "# draw_registration_result(source_, target_, new_reg_trans)\n",
    "\n",
    "# print(\":: Metric: \", RegistrationMetric.get_overlap_ratio(source_, target_, 3, new_reg_trans))\n",
    "# print(\"--- %s seconds ---\" % (time.time() - start_time))"
   ]
  },
  {
   "cell_type": "code",
   "execution_count": 26,
   "id": "cbba30c1",
   "metadata": {},
   "outputs": [],
   "source": [
    "# draw_registration_result(source_, target_, np.eye(4))"
   ]
  },
  {
   "cell_type": "markdown",
   "id": "0b38d6f8",
   "metadata": {},
   "source": [
    "# Gradient Descent Algorithm for Surface Matching as Point Clouds"
   ]
  },
  {
   "cell_type": "code",
   "execution_count": 27,
   "id": "e83a4885",
   "metadata": {},
   "outputs": [],
   "source": [
    "import matplotlib.pyplot as plt\n",
    "from data import ModelNet40\n",
    "import numpy as np\n",
    "import torch\n",
    "import copy\n",
    "import numpy as np\n",
    "import open3d as o3d\n",
    "from scipy.spatial.transform import Rotation as R\n",
    "from vtctestregistrationdata import VTCTestRegistrationData\n",
    "from generatedtrainingdata import GeneratedTrainingData"
   ]
  },
  {
   "cell_type": "code",
   "execution_count": 28,
   "id": "4066ce95",
   "metadata": {},
   "outputs": [],
   "source": [
    "def draw_registration_result(source, target, transformation):\n",
    "    SIZE_PERCENTAGE = 0.15\n",
    "    v_size = round(max(source.get_max_bound() - source.get_min_bound()) * SIZE_PERCENTAGE, 4)\n",
    "\n",
    "    source = copy.deepcopy(source)\n",
    "    target = copy.deepcopy(target)\n",
    "    coord_syst = o3d.geometry.TriangleMesh.create_coordinate_frame(size=v_size, origin=[0, 0, 0])\n",
    "    source_temp = copy.deepcopy(source)\n",
    "    target_temp = copy.deepcopy(target)\n",
    "    source_temp.paint_uniform_color([1, 0.706, 0 ])  # 1, 0.706, 0\n",
    "    target_temp.paint_uniform_color([0, 0.651, 0.929]) #  # 0, 0.651, 0.929\n",
    "    source_temp.transform(transformation)\n",
    "    o3d.visualization.draw_geometries([source_temp, target_temp, coord_syst])\n",
    "\n",
    "def initialize_pointcloud(pts):\n",
    "    pcd = o3d.geometry.PointCloud()\n",
    "    pcd.points = o3d.utility.Vector3dVector(pts)\n",
    "    return pcd\n",
    "\n",
    "def plot_accuracy_and_loss(loss_train, loss_val):\n",
    "    \"\"\"Plot two numpy arrays on two different axis\"\"\"\n",
    "    fig, ax1 = plt.subplots()\n",
    "    color = 'tab:red'\n",
    "    plt.xlabel(\"Epoch\")\n",
    "    plt.ylabel(\"Loss\")\n",
    "    plt.plot(loss_train, color='red')\n",
    "    plt.plot(loss_val, color='blue')\n",
    "    plt.legend(['Training loss', 'Validation loss']) \n",
    "    plt.show()\n",
    "\n",
    "#########\n",
    "# generated_training_data_path = 'generated_training_dataset.hdf5'\n",
    "# trainset = GeneratedTrainingData(None, generated_training_data_path)\n",
    "\n",
    "# idx = 2\n",
    "# test_cts = trainset[idx]\n",
    "# scaling = 1\n",
    "# target = initialize_pointcloud(test_cts[0].T.detach().cpu().numpy()*scaling)\n",
    "# source = initialize_pointcloud(test_cts[1].T.detach().cpu().numpy()*scaling)\n",
    "# transform = np.eye(4)\n",
    "# transform[:3, :3] = test_cts[2].detach().cpu().numpy()\n",
    "# transform[:3, 3] = test_cts[3].detach().cpu().numpy() * scaling\n",
    "\n",
    "# draw_registration_result(target,source,transform)"
   ]
  },
  {
   "cell_type": "code",
   "execution_count": 29,
   "id": "127b6a35",
   "metadata": {},
   "outputs": [],
   "source": [
    "import torch\n",
    "import torch.nn as nn\n",
    "from pytorch3d.transforms import (matrix_to_quaternion, quaternion_to_matrix, euler_angles_to_matrix, Transform3d)\n",
    "from pytorch3d.loss import chamfer_distance\n",
    "import torch.optim as optim\n",
    "from pytorch3d.ops import (ball_query, knn_points, sample_farthest_points)\n",
    "\n",
    "# class F1ScoreLoss(nn.Module):\n",
    "#     def __init__(self, threshold, K=10):\n",
    "#         super(F1ScoreLoss, self).__init__()\n",
    "#         self.threshold = threshold\n",
    "#         self.K = K\n",
    "\n",
    "#     def forward(self, x, y):\n",
    "#         def get_overlap(x, y):\n",
    "#             b_query = ball_query(y, x, K=self.K, radius = self.threshold)\n",
    "\n",
    "#             # Count the number of points (rows) in each batch where there is at least one non -1 value\n",
    "#             # Create a tensor\n",
    "#             x = (b_query[0]).sum(dim=2) * 1e10\n",
    "\n",
    "#             # Use torch.clamp to create a tensor with values between 0 and 1\n",
    "#             # Values greater than the threshold become 1, and others become 0, x - threshold\n",
    "#             binary_tensor = torch.clamp(x, min=0, max=1.0)\n",
    "\n",
    "#             # Count the number of values greater than the threshold using torch.sum()\n",
    "#             non_negative_points_per_batch = torch.sum(binary_tensor, dim=1)\n",
    "\n",
    "#             total_points_per_batch = torch.tensor([len(batch) for batch in y])\n",
    "\n",
    "#             overlap_source_on_target = non_negative_points_per_batch / total_points_per_batch\n",
    "#             return overlap_source_on_target\n",
    "\n",
    "#         precision = get_overlap(x, y)\n",
    "#         recall = get_overlap(y, x)\n",
    "\n",
    "#         # Return the negative F1 score as a loss (minimizing F1 score is equivalent to maximizing overlap)\n",
    "#         f1_score = 2*(precision * recall)/(precision + recall)\n",
    "#         return - torch.nan_to_num(f1_score, nan=2).mean()\n",
    "\n",
    "\n",
    "# x = torch.tensor([[[0,0,0],  [0,0,1],  [0,0,2]],    [[0,0,0],  [0,0,1],  [0,0,2]]]).float().requires_grad_() # source\n",
    "# y = torch.tensor([[[0.1,0,0],[0.1,0,1],[0,0,2.05]], [[0,0,0],  [0,0,1],  [0,0,2]]]).float().requires_grad_() # template\n",
    "\n",
    "\n",
    "# # Usage:\n",
    "# loss_function = F1ScoreLoss(0.05)\n",
    "# loss_function(x, y), loss_function(y, x)"
   ]
  },
  {
   "cell_type": "code",
   "execution_count": 360,
   "id": "1c862682",
   "metadata": {},
   "outputs": [],
   "source": [
    "class F1ScoreLoss(nn.Module):\n",
    "    def __init__(self, threshold, K=10):\n",
    "        super(F1ScoreLoss, self).__init__()\n",
    "        self.threshold = threshold\n",
    "        self.K = K\n",
    "\n",
    "    def forward(self, x, y, reduction = 'sum'):\n",
    "        def get_overlap(x, y):\n",
    "            b_query = ball_query(y, x, K=self.K, radius = self.threshold)\n",
    "\n",
    "            # Count the number of points (rows) in each batch where there is at least one non -1 value\n",
    "            x = (b_query[0]).sum(dim=2)\n",
    "            non_negative_points_per_batch = torch.sum(x, dim=1)\n",
    "\n",
    "            return non_negative_points_per_batch\n",
    "\n",
    "        precision = get_overlap(x, y)\n",
    "        recall = get_overlap(y, x)\n",
    "\n",
    "        # Return the F1 score as a loss (minimizing F1 score is equivalent to maximizing overlap)\n",
    "        f1_score = 2*(precision * recall)/(precision + recall)\n",
    "        if reduction == 'sum':\n",
    "            return torch.nan_to_num(f1_score, nan=0).sum()\n",
    "        else:\n",
    "            return torch.nan_to_num(f1_score, nan=0)\n",
    "    \n",
    "# x = torch.tensor([[[0,0,0],  [0,0,1],  [0,0,2]],    [[0,0,0],  [0,0,1],  [0,0,2]]]).float().requires_grad_() # source\n",
    "# y = torch.tensor([[[0.1,0,0],[0.1,0,1],[0,0,2.05]], [[0,0,0],  [0,0,1],  [0,0,2]]]).float().requires_grad_() # template\n",
    "\n",
    "\n",
    "# Usage:\n",
    "# loss_function = F1ScoreLoss(0.05)\n",
    "# loss_function(x, y), loss_function(y, x)"
   ]
  },
  {
   "cell_type": "code",
   "execution_count": 63,
   "id": "e595e336",
   "metadata": {},
   "outputs": [],
   "source": [
    "class NoiseRemoval():\n",
    "    @staticmethod\n",
    "    def __display_inlier_outlier(cloud, ind):\n",
    "        inlier_cloud = cloud.select_by_index(ind)\n",
    "        outlier_cloud = cloud.select_by_index(ind, invert=True)\n",
    "\n",
    "        print(\"Showing outliers (red) and inliers (gray): \")\n",
    "        outlier_cloud.paint_uniform_color([1, 0, 0])\n",
    "        inlier_cloud.paint_uniform_color([0.8, 0.8, 0.8])\n",
    "        o3d.visualization.draw_geometries([inlier_cloud, outlier_cloud])\n",
    "\n",
    "    @staticmethod\n",
    "    def check_pointcloud(obj):\n",
    "        if torch.is_tensor(obj):\n",
    "            print(\"it is tensor\")\n",
    "            pcd = o3d.geometry.PointCloud()\n",
    "            pcd.points = o3d.utility.Vector3dVector(obj.detach().cpu().numpy())\n",
    "            from_type = \"torch\"\n",
    "            \n",
    "        return pcd, from_type\n",
    "\n",
    "\n",
    "    @staticmethod\n",
    "    def remove_statistical_outlier(pcd, nb_neighbors = 600, std_ratio = 2.0, show = False):\n",
    "        \"\"\" \n",
    "            Inputs:\n",
    "                nb_neighbors (int) – Number of neighbors around the target point.\n",
    "                std_ratio (float) – Standard deviation ratio.\n",
    "        \"\"\"\n",
    "        \n",
    "        pcd, from_type = NoiseRemoval.check_pointcloud(pcd)\n",
    "\n",
    "        _, ind = pcd.remove_statistical_outlier(nb_neighbors, std_ratio, print_progress=False)\n",
    "        if show:\n",
    "            NoiseRemoval.__display_inlier_outlier(pcd, ind)\n",
    "\n",
    "        pcd = pcd.select_by_index(ind)\n",
    "\n",
    "        if from_type == \"torch\":\n",
    "            pcd = torch.from_numpy(np.asarray(pcd.points))\n",
    "\n",
    "        return pcd\n",
    "\n",
    "# print(\"Radius oulier removal\")\n",
    "#     cl, ind = voxel_down_pcd.remove_radius_outlier(nb_points=16, radius=0.05)\n",
    "#     display_inlier_outlier(voxel_down_pcd, ind)"
   ]
  },
  {
   "cell_type": "code",
   "execution_count": 424,
   "id": "b40165ae",
   "metadata": {},
   "outputs": [
    {
     "data": {
      "text/plain": [
       "torch.Size([1, 1024])"
      ]
     },
     "execution_count": 424,
     "metadata": {},
     "output_type": "execute_result"
    }
   ],
   "source": [
    "sample_farthest_points(torch.rand(1,2048,3), lengths=torch.tensor([2048]), K=1024)[1]"
   ]
  },
  {
   "cell_type": "code",
   "execution_count": null,
   "id": "43c18f74",
   "metadata": {},
   "outputs": [],
   "source": [
    "x = sample_farthest_points(x, lengths=torch.tensor([2048]), K=1024)[0]\n",
    "# def sample_farthest_points(\n",
    "#     points: torch.Tensor,\n",
    "#     lengths: Optional[torch.Tensor] = None,\n",
    "#     K: Union[int, List, torch.Tensor] = 50,\n",
    "#     random_start_point: bool = False,\n",
    "# ) -> Tuple[torch.Tensor, torch.Tensor]:\n",
    "# using sample_farthest_points worsen the aligment due to the homogeneous sampling of points acrros all the point cloud which increases the probability of adding outliers in non dense areas\n",
    "\n",
    "x = sample_farthest_points(x.view(1,N_before_sampling,3), torch.Tensor([N_before_sampling]), N)[0].view(N,3)\n",
    "y = sample_farthest_points(y.view(1,N_before_sampling,3), torch.Tensor([N_before_sampling]), N)[0].view(N,3)"
   ]
  },
  {
   "cell_type": "code",
   "execution_count": 92,
   "id": "a2d4ee82",
   "metadata": {},
   "outputs": [],
   "source": [
    "def projected_chamfer_loss(x, y):\n",
    "    def get_projected_point_cloud(x, y, dim=0):\n",
    "        x_cln = x.clone()\n",
    "        y_cln = y.clone()\n",
    "\n",
    "        x_cln[:,:,dim] = 0\n",
    "        y_cln[:,:,dim] = 0\n",
    "\n",
    "        return x_cln, y_cln\n",
    "\n",
    "    x_yz, y_yz = get_projected_point_cloud(x, y, dim=0)\n",
    "    x_xz, y_xz = get_projected_point_cloud(x, y, dim=1)\n",
    "    x_xy, y_xy = get_projected_point_cloud(x, y, dim=2)\n",
    "    \n",
    "    cd_yx, _ = chamfer_distance(x_yz,y_yz)\n",
    "    cd_xx, _ = chamfer_distance(x_xz,y_xz)\n",
    "    cd_xy, _ = chamfer_distance(x_xy,y_xy)\n",
    "\n",
    "    return cd_yx + cd_xx + cd_xy\n",
    "\n",
    "import torch.nn.functional as F\n",
    "\n",
    "class RigidMotionLoss(nn.Module):\n",
    "    def __init__(self):\n",
    "        super(RigidMotionLoss, self).__init__()\n",
    "        self.discount_factor = 1\n",
    "\n",
    "    def forward(self, rotation_ab, translation_ab, rotation_ba, translation_ba, iteration_n = 1):\n",
    "        batch_size = rotation_ab.size(0)\n",
    "        identity = torch.eye(3, device=rotation_ab.device).unsqueeze(0).repeat(batch_size, 1, 1)\n",
    "        return (F.mse_loss(torch.matmul(rotation_ba.transpose(2, 1), rotation_ab), identity) \\\n",
    "                   + F.mse_loss(translation_ba, translation_ab)) * self.discount_factor**iteration_n"
   ]
  },
  {
   "cell_type": "code",
   "execution_count": 346,
   "id": "1f27dda0",
   "metadata": {},
   "outputs": [],
   "source": [
    "import numpy as np\n",
    "from pytorch3d.transforms import (matrix_to_quaternion, quaternion_to_matrix, euler_angles_to_matrix, \n",
    "                                  quaternion_apply, Transform3d)\n",
    "def get_initial_quaternions():\n",
    "    # Define the range (-A to A) for the rotations\n",
    "    A = 20  # Replace with your desired range in degrees\n",
    "\n",
    "    # Number of divisions or steps within the range\n",
    "    num_steps = 4  # Adjust this to your desired number of steps\n",
    "\n",
    "    # Generate the grid of Euler rotations\n",
    "    x_angles = np.linspace(-A, A, num_steps)\n",
    "    y_angles = np.linspace(-A, A, num_steps)\n",
    "\n",
    "    # Create a grid of Euler rotations using meshgrid\n",
    "    x_rotations, y_rotations = np.meshgrid(np.radians(x_angles), np.radians(y_angles))\n",
    "\n",
    "    # Stack the X and Y rotations into a single array\n",
    "    x_rotations_rav = x_rotations.ravel()\n",
    "    n_initial_quat = x_rotations_rav.shape[0]\n",
    "\n",
    "    rotations = np.column_stack((np.zeros(n_initial_quat), y_rotations.ravel(), x_rotations_rav))\n",
    "\n",
    "    if num_steps % 2 == 0:\n",
    "        rotations = np.vstack([np.array([0,0,0]), rotations])\n",
    "        n_initial_quat += 1\n",
    "\n",
    "    rotations = torch.from_numpy(rotations).float()\n",
    "\n",
    "    # Now, 'rotations' contains the grid of Euler rotations in a single 2D array\n",
    "\n",
    "    initial_quaternions = matrix_to_quaternion(euler_angles_to_matrix(rotations, \"XYZ\"))\n",
    "\n",
    "    return n_initial_quat, initial_quaternions\n",
    "\n"
   ]
  },
  {
   "cell_type": "code",
   "execution_count": 412,
   "id": "7129e203",
   "metadata": {},
   "outputs": [
    {
     "name": "stdout",
     "output_type": "stream",
     "text": [
      "it is tensor\n"
     ]
    },
    {
     "data": {
      "text/plain": [
       "(torch.Size([1, 2048, 3]), torch.Size([1, 1942, 3]))"
      ]
     },
     "execution_count": 412,
     "metadata": {},
     "output_type": "execute_result"
    }
   ],
   "source": [
    "########\n",
    "N_before_sampling = 2048\n",
    "N = 2048\n",
    "\n",
    "if torch.cuda.is_available:\n",
    "    device = torch.device('cuda')\n",
    "else:\n",
    "    device = torch.device('cpu')\n",
    "\n",
    "# generated_training_data_path = 'generated_training_dataset.hdf5'\n",
    "# trainset = GeneratedTrainingData(None, generated_training_data_path, N)\n",
    "trainset = VTCTestRegistrationData('vtc_testing_dataset.hdf5', N_before_sampling)\n",
    "\n",
    "idx = 36\n",
    "test_cts = trainset[idx]\n",
    "scaling = 1\n",
    "nb_neighbors = 30\n",
    "std_ratio = 1.65\n",
    "double_reg_scr_to_tgt = False   # Flag to enable the double registration between scr to tgt and tgt to scr\n",
    "\n",
    "x = test_cts[1].T.view(N_before_sampling,3)\n",
    "y = test_cts[0].T.view(N_before_sampling,3)\n",
    "\n",
    "# Removal of noise from target point cloud\n",
    "y = NoiseRemoval.remove_statistical_outlier(y, nb_neighbors = nb_neighbors, std_ratio = std_ratio)\n",
    "\n",
    "\n",
    "x = x - torch.mean(x, dim=0)\n",
    "y = y - torch.mean(y, dim=0)\n",
    "\n",
    "x = x.float()\n",
    "y = y.float()\n",
    "\n",
    "transform = np.eye(4)\n",
    "transform[:3, :3] = test_cts[2].detach().cpu().numpy()\n",
    "transform[:3, 3] = test_cts[3].detach().cpu().numpy() * scaling\n",
    "\n",
    "# draw_registration_result(initialize_pointcloud(x.detach().cpu().numpy()*scaling),\n",
    "#                          initialize_pointcloud(y.detach().cpu().numpy()*scaling),\n",
    "#                          transform)\n",
    "\n",
    "# Align target to source\n",
    "x = x.view(1,-1,3).to(device) # source\n",
    "y = y.view(1,-1,3).to(device) # target\n",
    "\n",
    "# Double registration from tgt to scr and viceverse\n",
    "if double_reg_scr_to_tgt:\n",
    "    # x and y must have the same dimentions\n",
    "    x_copy = x.clone()\n",
    "    x = torch.cat((x, y), dim=0)\n",
    "    y = torch.cat((y, x_copy), dim=0)\n",
    "\n",
    "\n",
    "x.shape, y.shape"
   ]
  },
  {
   "cell_type": "code",
   "execution_count": 413,
   "id": "503fa7cb",
   "metadata": {},
   "outputs": [
    {
     "name": "stdout",
     "output_type": "stream",
     "text": [
      "Initial values of rotation: \n",
      " tensor([[ 1.0000,  0.0000,  0.0000,  0.0000],\n",
      "        [ 0.9698,  0.0302, -0.1710, -0.1710],\n",
      "        [ 0.9831,  0.0101, -0.1734, -0.0573],\n",
      "        [ 0.9831, -0.0101, -0.1734,  0.0573],\n",
      "        [ 0.9698, -0.0302, -0.1710,  0.1710],\n",
      "        [ 0.9831,  0.0101, -0.0573, -0.1734],\n",
      "        [ 0.9966,  0.0034, -0.0580, -0.0580],\n",
      "        [ 0.9966, -0.0034, -0.0580,  0.0580],\n",
      "        [ 0.9831, -0.0101, -0.0573,  0.1734],\n",
      "        [ 0.9831, -0.0101,  0.0573, -0.1734],\n",
      "        [ 0.9966, -0.0034,  0.0580, -0.0580],\n",
      "        [ 0.9966,  0.0034,  0.0580,  0.0580],\n",
      "        [ 0.9831,  0.0101,  0.0573,  0.1734],\n",
      "        [ 0.9698, -0.0302,  0.1710, -0.1710],\n",
      "        [ 0.9831, -0.0101,  0.1734, -0.0573],\n",
      "        [ 0.9831,  0.0101,  0.1734,  0.0573],\n",
      "        [ 0.9698,  0.0302,  0.1710,  0.1710]], requires_grad=True)\n"
     ]
    },
    {
     "data": {
      "image/png": "[encoded data removed]",
      "text/plain": [
       "<Figure size 640x480 with 1 Axes>"
      ]
     },
     "metadata": {},
     "output_type": "display_data"
    }
   ],
   "source": [
    "def chamfer_loss(x, y):\n",
    "    loss_chamfer, _ = chamfer_distance(x,y)\n",
    "    return loss_chamfer\n",
    "\n",
    "def projected_chamfer_loss(x, y):\n",
    "    loss_chamfer, _ = chamfer_distance(x,y)\n",
    "    return loss_chamfer\n",
    "\n",
    "def get_B_eye_rotation_matrices(B):\n",
    "    # Create a batch of identity matrices\n",
    "    return torch.eye(3).unsqueeze(0).expand(B, -1, -1)\n",
    "\n",
    "def get_B_eye_quaternions(B):\n",
    "    # Create a batch of identity matrices\n",
    "    return torch.tensor([1,0,0,0]).float().unsqueeze(0).expand(B, -1)\n",
    "\n",
    "def check_convergence(w0, w1, threshold = 0.00005):\n",
    "    return np.linalg.norm(w0-w1) < threshold\n",
    "\n",
    "def get_gradient_norm(t_params, quat_params):\n",
    "    return torch.cat((t_params.grad, quat_params.grad), 1).norm(dim=-1)\n",
    "\n",
    "multiple_initial_value = True\n",
    "n_initial_quat, initial_quaternions = get_initial_quaternions()\n",
    "\n",
    "if multiple_initial_value:\n",
    "    x = x.expand(n_initial_quat, -1, 3)\n",
    "    y = y.expand(n_initial_quat, -1, 3)\n",
    "else:\n",
    "    B = 1\n",
    "    initial_quaternions = matrix_to_quaternion(get_B_eye_rotation_matrices(B)).requires_grad_()\n",
    "    n_initial_quat = initial_quaternions.shape[0]\n",
    "\n",
    "\n",
    "lr = 0.055         # Learning rate\n",
    "B = x.shape[0]    # Batch size\n",
    "K = 5             # Number of neighbors\n",
    "radius = 0.15     # Neighbors search radius\n",
    "gamma = 2         # Overlap loss constant\n",
    "alpha = 6         # Project loss constant\n",
    "epochs = 500        # No of epochs to run\n",
    "rg_mot_loss_coeff = 0 # Coefficient for the double registration rigid motion loss\n",
    "\n",
    "rigid_motion_loss = RigidMotionLoss()\n",
    "f1_loss_function = F1ScoreLoss(radius*radius, K=K)\n",
    "t_params = torch.zeros(B, 3, requires_grad=True)\n",
    "\n",
    "# Initialize quaternions:\n",
    "quat_params = initial_quaternions.requires_grad_()\n",
    "print(\"Initial values of rotation: \\n\", quat_params)\n",
    "# initial_quaternions.requires_grad_()\n",
    "\n",
    "optimizer = optim.Adam([t_params, quat_params], lr=lr)\n",
    "\n",
    "loss_tracking = []\n",
    "grad_tracking = []\n",
    "\n",
    "\n",
    "for iter in range(epochs):\n",
    "    \n",
    "    t = Transform3d().rotate(quaternion_to_matrix(quat_params)).translate(t_params).to(device) # scale(s1_params).\n",
    "    \n",
    "    y_transformed = t.transform_points(y).float()\n",
    "\n",
    "    # Forward pass and backward pass\n",
    "    ####### RIGID MOTION LOSS #######\n",
    "    # quat2mtx = quaternion_to_matrix(quat_params)\n",
    "    # rig_mot_loss = rg_mot_loss_coeff * rigid_motion_loss(quat2mtx[0].view(1,3,3), t_params[0].view(1,1,3),\n",
    "    #               quat2mtx[1].view(1,3,3), t_params[1].view(1,1,3))\n",
    "    # rig_mot_loss = 0\n",
    "    ################################\n",
    "\n",
    "    \n",
    "    \n",
    "    loss = chamfer_loss(x, y_transformed) + alpha * projected_chamfer_loss(x, y_transformed) \\\n",
    "        + gamma * f1_loss_function(x, y_transformed) \n",
    "        \n",
    "    # + gamma * f1_loss_function(x, y_transformed)\n",
    "    # chamfer_loss(x, y_transformed)\n",
    "    # f1_loss_function(x, y_transformed)\n",
    "    # dist(x.cuda(), y_transformed.cuda()).sum()\n",
    "    # + rig_mot_loss\n",
    "\n",
    "    loss.backward()\n",
    "    \n",
    "    loss_tracking.append(loss.cpu().detach().numpy())\n",
    "\n",
    "    # grad_tracking.append(get_gradient_norm(t_params, quat_params).cpu().detach().numpy())\n",
    "\n",
    "    # Update parameters using the optimizer\n",
    "    \n",
    "    # print(\"Params (before): \", t_params, quat_params)\n",
    "    optimizer.step()\n",
    "    # print(\"Params (after): \", t_params, quat_params)\n",
    "\n",
    "    # Zero out gradients for the next iteration\n",
    "    optimizer.zero_grad()\n",
    "\n",
    "plot_accuracy_and_loss(loss_tracking, grad_tracking)\n",
    "\n",
    "# X and Y are both zero-centered at this point\n",
    "def draw_registration_result_from_tensor(idx):\n",
    "    # draw_registration_result(initialize_pointcloud(x[idx].detach().cpu().numpy()),\n",
    "    #                         initialize_pointcloud(y[idx].detach().cpu().numpy()),\n",
    "    #                         np.eye(4))\n",
    "\n",
    "    draw_registration_result(initialize_pointcloud(x[idx].detach().cpu().numpy()),\n",
    "                            initialize_pointcloud(y_transformed[idx].detach().cpu().numpy()),\n",
    "                            np.eye(4))\n",
    "\n"
   ]
  },
  {
   "cell_type": "code",
   "execution_count": 419,
   "id": "0671c1b9",
   "metadata": {},
   "outputs": [],
   "source": [
    "################\n",
    "# As expected, F1 overlap loss provides a good indication of successful registration\n",
    "# if iter == int(epochs * 0.4):\n",
    "f1_scores = f1_loss_function(x, y_transformed, reduction = None)\n",
    "# n_tops = 1\n",
    "# idx_top_f1 = torch.topk(f1_scores, n_tops)[0].long()\n",
    "idx_top_f1 = torch.argmax(f1_scores)\n",
    "f1_scores, idx_top_f1\n",
    "# x = x[idx_top_f1]\n",
    "# y = y[idx_top_f1]\n",
    "# y_transformed = y_transformed[idx_top_f1]\n",
    "\n",
    "# t_params = t_params[idx_top_f1]\n",
    "# quat_params = quat_params[idx_top_f1]\n",
    "################\n",
    "draw_registration_result_from_tensor(idx=idx_top_f1)"
   ]
  },
  {
   "cell_type": "code",
   "execution_count": 420,
   "id": "1f99ab1c",
   "metadata": {},
   "outputs": [
    {
     "data": {
      "text/plain": [
       "(torch.Size([17, 2048, 3]), 17)"
      ]
     },
     "execution_count": 420,
     "metadata": {},
     "output_type": "execute_result"
    }
   ],
   "source": [
    "x.shape, n_initial_quat"
   ]
  },
  {
   "cell_type": "code",
   "execution_count": 404,
   "id": "303c7373",
   "metadata": {},
   "outputs": [],
   "source": [
    "for idx in range(n_initial_quat):\n",
    "    # print(matrix_to_quaternion(euler_angles_to_matrix(rotations, \"XYZ\"))[idx])\n",
    "    draw_registration_result_from_tensor(idx=idx)"
   ]
  },
  {
   "cell_type": "code",
   "execution_count": 90,
   "id": "b8c76d25",
   "metadata": {},
   "outputs": [],
   "source": [
    "\n",
    "# draw_registration_result_from_tensor(idx=1)"
   ]
  },
  {
   "cell_type": "code",
   "execution_count": 87,
   "id": "6f13b5e8",
   "metadata": {},
   "outputs": [],
   "source": []
  },
  {
   "cell_type": "code",
   "execution_count": 24,
   "id": "cfb1261a",
   "metadata": {},
   "outputs": [
    {
     "name": "stdout",
     "output_type": "stream",
     "text": [
      "[Open3D WARNING] GLFW Error: WGL: Failed to make context current: Controlador no válido. \n"
     ]
    }
   ],
   "source": [
    "o3d.visualization.draw_geometries([source, target, PCUtils.create_coordinate_frame(100, (0, 0, 0))],\n",
    "                                  window_name = 'DNSS Source Point Cloud')"
   ]
  },
  {
   "cell_type": "code",
   "execution_count": null,
   "id": "56238952",
   "metadata": {},
   "outputs": [],
   "source": [
    "source.estimate_normals(\n",
    "    search_param = o3d.geometry.KDTreeSearchParamHybrid(2, max_nn=30),\n",
    "    fast_normal_computation=False\n",
    ")\n",
    "\n",
    "target.estimate_normals(\n",
    "    search_param = o3d.geometry.KDTreeSearchParamHybrid(2, max_nn=30),\n",
    "    fast_normal_computation=False\n",
    ")"
   ]
  },
  {
   "cell_type": "code",
   "execution_count": 10,
   "id": "37694ad8",
   "metadata": {},
   "outputs": [
    {
     "data": {
      "text/plain": [
       "True"
      ]
     },
     "execution_count": 10,
     "metadata": {},
     "output_type": "execute_result"
    }
   ],
   "source": [
    "o3d.io.write_point_cloud(f\"tv_source.ply\", source, write_ascii=True)\n",
    "o3d.io.write_point_cloud(f\"tv_target.ply\", target, write_ascii=True)"
   ]
  },
  {
   "cell_type": "code",
   "execution_count": 39,
   "id": "4f0f24f0",
   "metadata": {},
   "outputs": [],
   "source": [
    "tr = quaternion_multiply(R.from_matrix(gt_matrix[:3,:3]).as_quat(), np.array([0,0,0,1]))\n",
    "eye = np.eye(4)\n",
    "eye[:3,:3] = R.from_quat(tr).as_matrix()"
   ]
  },
  {
   "cell_type": "code",
   "execution_count": 3,
   "id": "4e18b529",
   "metadata": {},
   "outputs": [
    {
     "name": "stdout",
     "output_type": "stream",
     "text": [
      ":: Point cloud dimensions:  [18.17740059 44.29135132 17.23791576]\n",
      ":: Ground truth:\n",
      " [[-0.99604297  0.05751173 -0.06775543  0.        ]\n",
      " [-0.01738599 -0.87374907 -0.48606615  0.        ]\n",
      " [-0.08715574 -0.48296477  0.87129152 -2.        ]\n",
      " [ 0.          0.          0.          1.        ]] \n",
      "::Ground truth (Euler):\n",
      " [-179.    5.  -29.]\n",
      "[Open3D WARNING] GLFW Error: WGL: Failed to make context current: Controlador no válido. \n"
     ]
    }
   ],
   "source": [
    "max_angle_range = 30\n",
    "max_translation = 3\n",
    "\n",
    "def gen_source_targte():\n",
    "    PCD_DENSITY = 10000\n",
    "    source, target = GenerateSyntheticClouds.generate_source_target(\n",
    "        r'C:\\Users\\AlejandroHVilla\\Downloads\\Datasets\\ModelNet10\\ModelNet10\\sofa\\train\\sofa_0660.off',\n",
    "#         r'C:\\Users\\AlejandroHVilla\\Downloads\\Datasets\\ModelNet10\\ModelNet10\\monitor\\train\\monitor_0450.off',\n",
    "                                                                        PCD_DENSITY)\n",
    "    \n",
    "    print(\":: Point cloud dimensions: \", np.max(np.asarray(source.points), axis=0))\n",
    "    \n",
    "    max_angle_range = 30\n",
    "    max_translation = 3\n",
    "    \n",
    "    gt_matrix = MatrixPose.pose_to_matrix([random.randint(-max_translation,max_translation),\n",
    "                                              random.randint(-max_translation,max_translation),\n",
    "                                              random.randint(-max_translation,max_translation),\n",
    "                                              random.randint(-180,180),\n",
    "                                              random.randint(-max_angle_range,max_angle_range),\n",
    "                                              random.randint(-max_angle_range,max_angle_range)])\n",
    "\n",
    "    gt_euler = R.from_matrix(gt_matrix[:3,:3]).as_euler('ZYX', degrees=True)\n",
    "    print(\":: Ground truth:\\n\", gt_matrix, '\\n::Ground truth (Euler):\\n', gt_euler)\n",
    "    target.transform(gt_matrix)\n",
    "\n",
    "    source_pts = np.asarray(source.points)\n",
    "    target_pts = np.asarray(target.points)\n",
    "    \n",
    "    \n",
    "    \n",
    "    draw_registration_result(source, target, np.eye(4))\n",
    "    \n",
    "    return source, target, source_pts, target_pts, gt_euler\n",
    "\n",
    "source, target, source_pts, target_pts, gt_euler = gen_source_targte()"
   ]
  },
  {
   "cell_type": "code",
   "execution_count": 6,
   "id": "739dbe8a",
   "metadata": {
    "scrolled": true
   },
   "outputs": [
    {
     "data": {
      "text/plain": [
       "(array([0.11004634, 0.39401171, 0.09324152, 0.47509236]),\n",
       " array([-0.85399259,  0.72191244, -0.91459524]))"
      ]
     },
     "execution_count": 6,
     "metadata": {},
     "output_type": "execute_result"
    }
   ],
   "source": [
    "import numpy as np\n",
    "import itertools\n",
    "from scipy.spatial import cKDTree\n",
    "from scipy.spatial.transform import Rotation as R\n",
    "\n",
    "\n",
    "def overlap_loss(X, Y, R_quad, T_transl, threshold):\n",
    "    T = R.from_quat(R_quad).as_matrix()\n",
    "    X_transformed = (T[0:3, 0:3] @ X.T ).T + T_transl\n",
    "    tree = cKDTree(X_transformed)\n",
    "    searched_nn_points = tree.query_ball_point(Y, threshold, workers=-1)\n",
    "    searched_nn_points = list(itertools.chain(*searched_nn_points))\n",
    "    return len(searched_nn_points) / X_transformed.shape[0]\n",
    "\n",
    "def check_convergence(w0, w1, threshold = 0.00005):\n",
    "    return np.linalg.norm(w0-w1) < threshold\n",
    "\n",
    "grad_history = []\n",
    "loss_history = []\n",
    "\n",
    "def gradient_descent(X, Y, R_quad, T_transl, lr=0.01, max_iter=1000, tol=1e-3, threshold=100, callbacks=[]):\n",
    "    T = R_quad\n",
    "    Trl = T_transl\n",
    "    delta = 0.1\n",
    "\n",
    "    adam = AdamOptim(eta=lr, beta1=0.9, beta2=0.999, epsilon=1e-8)\n",
    "    step = 1\n",
    "    \n",
    "    loss_history.append(-overlap_loss(X, Y, T, Trl, threshold))\n",
    "    \n",
    "    for i in range(max_iter):\n",
    "        \n",
    "        grad = np.zeros(7)\n",
    "        grad[0] = -(overlap_loss(X, Y, T + np.array([delta, 0, 0, 0]), np.array([0,0,0]), threshold) - overlap_loss(X, Y, T - np.array([delta, 0, 0, 0]), np.array([0,0,0]), threshold))/(2*delta)\n",
    "        grad[1] = -(overlap_loss(X, Y, T + np.array([0, delta, 0, 0]), np.array([0,0,0]), threshold) - overlap_loss(X, Y, T - np.array([0, delta, 0, 0]), np.array([0,0,0]), threshold))/(2*delta)\n",
    "        grad[2] = -(overlap_loss(X, Y, T + np.array([0, 0, delta, 0]), np.array([0,0,0]), threshold) - overlap_loss(X, Y, T - np.array([0, 0, delta, 0]), np.array([0,0,0]), threshold))/(2*delta)\n",
    "        grad[3] = -(overlap_loss(X, Y, T + np.array([0, 0, 0, delta]), np.array([0,0,0]), threshold) - overlap_loss(X, Y, T - np.array([0, 0, 0, delta]), np.array([0,0,0]), threshold))/(2*delta)\n",
    "        \n",
    "        grad[4] = -(overlap_loss(X, Y, np.array([0, 0, 0, 1]), Trl + np.array([delta,0,0]), threshold) - overlap_loss(X, Y, np.array([0, 0, 0, 1]), Trl - np.array([delta,0,0]), threshold))/(2*delta)\n",
    "        grad[5] = -(overlap_loss(X, Y, np.array([0, 0, 0, 1]), Trl + np.array([0,delta,0]), threshold) - overlap_loss(X, Y, np.array([0, 0, 0, 1]), Trl - np.array([0,delta,0]), threshold))/(2*delta)\n",
    "        grad[6] = -(overlap_loss(X, Y, np.array([0, 0, 0, 1]), Trl + np.array([0,0,delta]), threshold) - overlap_loss(X, Y, np.array([0, 0, 0, 1]), Trl - np.array([0,0,delta]), threshold))/(2*delta)\n",
    "        \n",
    "        grad_history.append(np.linalg.norm(grad))\n",
    "\n",
    "        T_old = np.append(T, Trl).copy()\n",
    "        T_all, _ = adam.update(step, w=np.append(T, Trl), b=0, dw=grad, db=0)\n",
    "        T = T_all[:4]\n",
    "        Trl = T_all[4:]\n",
    "        \n",
    "        step += 1\n",
    "        loss_history.append(-overlap_loss(X, Y, T, Trl, threshold))\n",
    "        # T = T + lr * grad\n",
    "        \n",
    "        # Check convergence\n",
    "        # obj_new = overlap_loss(X, Y, T_new, threshold)\n",
    "        \n",
    "        if check_convergence(T_old, np.append(T, Trl), tol): #np.linalg.norm(grad) < tol:\n",
    "            print(f\":: Tolerance reached at iter {i}!\")\n",
    "            break\n",
    "\n",
    "        for c in callbacks:\n",
    "            c(T, np.array([0,0,0]))\n",
    "        \n",
    "    return T, Trl\n",
    "\n",
    "best_rot, best_transl = gradient_descent(source_pts, target_pts, np.array([0., 0., 0., 1.]), np.array([0,0,0]),\n",
    "                            lr=0.1, max_iter=500, tol=0.005, threshold=1, callbacks=[])\n",
    "best_rot, best_transl"
   ]
  },
  {
   "cell_type": "code",
   "execution_count": 7,
   "id": "7d3b28ed",
   "metadata": {},
   "outputs": [
    {
     "data": {
      "text/plain": [
       "(array([67.14786717, 61.73601322, 69.36331002]),\n",
       " 'gt_euler: ',\n",
       " array([-179.,    5.,  -29.]))"
      ]
     },
     "execution_count": 7,
     "metadata": {},
     "output_type": "execute_result"
    }
   ],
   "source": [
    "# Predicted transformation vs GT\n",
    "R.from_quat(best_rot).as_euler('ZYX', degrees=True), \"gt_euler: \", gt_euler"
   ]
  },
  {
   "cell_type": "code",
   "execution_count": 8,
   "id": "fb8e9c49",
   "metadata": {},
   "outputs": [
    {
     "data": {
      "image/png": "[encoded data removed]",
      "text/plain": [
       "<Figure size 432x288 with 1 Axes>"
      ]
     },
     "metadata": {
      "needs_background": "light"
     },
     "output_type": "display_data"
    },
    {
     "data": {
      "image/png": "[encoded data removed]",
      "text/plain": [
       "<Figure size 432x288 with 1 Axes>"
      ]
     },
     "metadata": {
      "needs_background": "light"
     },
     "output_type": "display_data"
    }
   ],
   "source": [
    "plt.plot(range(len(grad_history)), grad_history)\n",
    "plt.xlabel('Steps')\n",
    "plt.ylabel('Gradient Norm')\n",
    "plt.show()\n",
    "\n",
    "plt.plot(range(len(loss_history)), loss_history)\n",
    "plt.xlabel('Steps')\n",
    "plt.ylabel('Loss')\n",
    "plt.show()"
   ]
  },
  {
   "cell_type": "code",
   "execution_count": null,
   "id": "888d7e2a",
   "metadata": {},
   "outputs": [],
   "source": [
    "eye = np.eye(4)\n",
    "eye[:3,:3] = R.from_quat(best_rot).as_matrix() \n",
    "eye[:3,3] = best_transl\n",
    "# eye[:3,:3] = R.align_vectors(target_pts, source_pts)[0].as_matrix()\n",
    "draw_registration_result(source, target, eye)\n",
    "\n",
    "\n",
    "reg_checker_within_angular_limits(best_rot, [180, max_angle_range, max_angle_range]),\n",
    "reg_checker_within_roi(source, roi_params)"
   ]
  },
  {
   "cell_type": "code",
   "execution_count": null,
   "id": "762a0e9e",
   "metadata": {},
   "outputs": [],
   "source": [
    "# Registration checkers\n",
    "roi_params = {'corner_x':  -100, 'corner_y':    100, 'corner_z':     100,\n",
    "              'dimension_x':200, 'dimension_y': 200, 'dimension_z': 200}\n",
    "\n",
    "# Within ROI\n",
    "def reg_checker_within_roi(transf_source, roi_params, n_points_exception=1):\n",
    "    \"\"\"\n",
    "        args:\n",
    "            transf_source: o3d.pointcloud\n",
    "            roi_params: Dictionary defining the ROI\n",
    "        output:\n",
    "            checker: bool, True if a point cloud, e.g. transformed source, falls within roi, else False\n",
    "    \n",
    "    \"\"\"\n",
    "    cropped_pcd = ROI.crop_roi_box(transf_source, roi_params, inverse = True)\n",
    "    checker = np.asarray(cropped_pcd.points).shape[0] < n_points_exception\n",
    "    return checker\n",
    "\n",
    "# Within expected angular range\n",
    "def reg_checker_within_angular_limits(reg_trans, max_euler_angles):\n",
    "    \"\"\"\n",
    "        args:\n",
    "            reg_trans: np.ndarray, 4x4 homogeneous, 3x3 rotation matrix, (4,) quaterion or (3,) euler\n",
    "            max_euler_angles: Maximum rotation given in Euler ZYX\n",
    "        output:\n",
    "            checker: bool, True if transformation angles fall within allowable limits, else False\n",
    "    \"\"\"\n",
    "    reg_trans = np.asarray(reg_trans)\n",
    "    max_euler_angles = np.abs(np.asarray(max_euler_angles))[:3]\n",
    "    \n",
    "    if reg_trans.shape == (4,):\n",
    "        # Quaternion\n",
    "        reg_trans_euler = R.from_quat(reg_trans).as_euler('ZYX', degrees=True)\n",
    "    \n",
    "    elif reg_trans.shape == (3,):\n",
    "        # Euler angle ZYX\n",
    "        reg_trans_euler = reg_trans\n",
    "    \n",
    "    elif reg_trans.shape[0] <= 4 and reg_trans.shape[1] <= 4:\n",
    "        # Rotation matrix\n",
    "        reg_trans_euler = R.from_matrix(reg_trans[:3,:3]).as_euler('ZYX', degrees=True)\n",
    "    \n",
    "    print(f\":: Reg Checker Angle Limits: {reg_trans_euler} within +- {max_euler_angles}\")\n",
    "    checker = not np.any(np.logical_and(reg_trans_euler > max_euler_angles, reg_trans_euler < -max_euler_angles))\n",
    "    return checker\n",
    "    \n"
   ]
  },
  {
   "cell_type": "code",
   "execution_count": null,
   "id": "2eb1cedd",
   "metadata": {},
   "outputs": [],
   "source": []
  },
  {
   "cell_type": "code",
   "execution_count": 2,
   "id": "9b81564d",
   "metadata": {},
   "outputs": [],
   "source": [
    "# Penalty to deviate from orthogonality:\n",
    "    \n",
    "def loss_orthogonality(alpha, R):\n",
    "    if R.shape == (4,4):\n",
    "        R = R[:3, :3]\n",
    "    return alpha * np.linalg.norm(R.T @ R - np.eye(4))"
   ]
  },
  {
   "cell_type": "code",
   "execution_count": 45,
   "id": "ed1930be",
   "metadata": {},
   "outputs": [],
   "source": [
    "def get_mesh_from_pcd(pcd):\n",
    "    \n",
    "    pcd.estimate_normals(\n",
    "        search_param = o3d.geometry.KDTreeSearchParamHybrid(20, max_nn=30),\n",
    "        fast_normal_computation=False\n",
    "    )\n",
    "    \n",
    "    return o3d.geometry.TriangleMesh.create_from_point_cloud_ball_pivoting(pcd,\n",
    "                                                                           o3d.utility.DoubleVector([0.5,5,10,15,20]))\n",
    "\n",
    "\n",
    "mesh = get_mesh_from_pcd(source)\n",
    "\n",
    "mesh.get_surface_area()"
   ]
  },
  {
   "cell_type": "code",
   "execution_count": 47,
   "id": "254c101a",
   "metadata": {},
   "outputs": [],
   "source": [
    "draw_registration_result(mesh, target, eye)"
   ]
  },
  {
   "cell_type": "code",
   "execution_count": null,
   "id": "a79609ef",
   "metadata": {},
   "outputs": [],
   "source": [
    "########\n",
    "\n",
    "import numpy as np\n",
    "\n",
    "def gradient_descent(points1, points2, num_iterations, learning_rate):\n",
    "    \"\"\"\n",
    "    Maximizes overlap between two surfaces as point clouds using gradient descent.\n",
    "\n",
    "    Args:\n",
    "        points1 (numpy array): Point cloud of surface 1\n",
    "        points2 (numpy array): Point cloud of surface 2\n",
    "        num_iterations (int): Number of iterations to run gradient descent\n",
    "        learning_rate (float): Learning rate to use for gradient descent\n",
    "\n",
    "    Returns:\n",
    "        numpy array: Translation vector that maximizes overlap between the two surfaces\n",
    "    \"\"\"\n",
    "    # Initialize translation vector to zero\n",
    "    translation = np.zeros((3,))\n",
    "\n",
    "    # Loop over the specified number of iterations\n",
    "    for i in range(num_iterations):\n",
    "        # Compute the gradient of the overlap function with respect to the translation vector\n",
    "        gradient = compute_gradient(points1, points2, translation)\n",
    "\n",
    "        # Update the translation vector using gradient descent\n",
    "        translation -= learning_rate * gradient\n",
    "\n",
    "    # Return the final translation vector\n",
    "    return translation\n",
    "\n",
    "\n",
    "def compute_gradient(points1, points2, translation):\n",
    "    \"\"\"\n",
    "    Computes the gradient of the overlap function with respect to the translation vector.\n",
    "\n",
    "    Args:\n",
    "        points1 (numpy array): Point cloud of surface 1\n",
    "        points2 (numpy array): Point cloud of surface 2\n",
    "        translation (numpy array): Translation vector\n",
    "\n",
    "    Returns:\n",
    "        numpy array: Gradient of the overlap function with respect to the translation vector\n",
    "    \"\"\"\n",
    "    # Compute the transformed point cloud for surface 1\n",
    "    transformed_points1 = points1 + translation\n",
    "\n",
    "    # Compute the overlap between the two point clouds\n",
    "    overlap = compute_overlap(transformed_points1, points2)\n",
    "\n",
    "    # Compute the gradient of the overlap function with respect to the translation vector\n",
    "    gradient = np.zeros((3,))\n",
    "    for i in range(3):\n",
    "        delta = np.zeros((3,))\n",
    "        delta[i] = 1\n",
    "        translation_plus_delta = translation + delta\n",
    "        transformed_points1_plus_delta = points1 + translation_plus_delta\n",
    "        overlap_plus_delta = compute_overlap(transformed_points1_plus_delta, points2)\n",
    "        gradient[i] = (overlap_plus_delta - overlap) / learning_rate\n",
    "\n",
    "    # Return the gradient\n",
    "    return gradient\n",
    "\n",
    "\n",
    "def compute_overlap(points1, points2):\n",
    "    \"\"\"\n",
    "    Computes the overlap between two point clouds.\n",
    "\n",
    "    Args:\n",
    "        points1 (numpy array): Point cloud of surface 1\n",
    "        points2 (numpy array): Point cloud of surface 2\n",
    "\n",
    "    Returns:\n",
    "        float: Overlap between the two point clouds\n",
    "    \"\"\"\n",
    "    # Compute the distance between each point in point cloud 1 and the nearest point in point cloud 2\n",
    "    distances = np.zeros((points1.shape[0],))\n",
    "    for i in range(points1.shape[0]):\n",
    "        distances[i] = np.min(np.linalg.norm(points1[i] - points2, axis=1))\n",
    "\n",
    "    # Compute the overlap as the sum of the distances\n",
    "    overlap = np.sum(distances)\n",
    "\n",
    "    # Return the overlap\n",
    "    return overlap"
   ]
  },
  {
   "cell_type": "code",
   "execution_count": null,
   "id": "a85f44f6",
   "metadata": {},
   "outputs": [],
   "source": [
    "def quaternion_multiply(quaternion1, quaternion0):\n",
    "    w0, x0, y0, z0 = quaternion0\n",
    "    w1, x1, y1, z1 = quaternion1\n",
    "    return np.array([-x1 * x0 - y1 * y0 - z1 * z0 + w1 * w0,\n",
    "                     x1 * w0 + y1 * z0 - z1 * y0 + w1 * x0,\n",
    "                     -x1 * z0 + y1 * w0 + z1 * x0 + w1 * y0,\n",
    "                     x1 * y0 - y1 * x0 + z1 * w0 + w1 * z0], dtype=np.float64)\n",
    "\n",
    "\n",
    "def daction3(pt, mat):\n",
    "    '''derivative of SE(3) transformation of a 3D point'''\n",
    "    R = mat[0:3, 0:3]\n",
    "    skew_sym_p = np.array([\n",
    "        [0.0, -pt[2], pt[1]],\n",
    "        [pt[2], 0.0, -pt[0]],\n",
    "        [-pt[1], pt[0], 0.0]\n",
    "    ])\n",
    "    rmat = np.dot(-R, skew_sym_p)\n",
    "    return np.array([\n",
    "        [R[0, 0], R[0, 1], R[0, 2], rmat[0, 0], rmat[0, 1], rmat[0, 2]],\n",
    "        [R[1, 0], R[1, 1], R[1, 2], rmat[1, 0], rmat[1, 1], rmat[1, 2]],\n",
    "        [R[2, 0], R[2, 1], R[2, 2], rmat[2, 0], rmat[2, 1], rmat[2, 2]]\n",
    "    ])\n",
    "\n",
    "daction3(np.array([1,2,3]), np.eye(4))\n",
    "\n",
    "# array([0., 0., 0., 1.]) quaternion of the identity matrix\n",
    "# r.as_euler('ZYX', degrees=True)"
   ]
  },
  {
   "cell_type": "code",
   "execution_count": null,
   "id": "f965729d",
   "metadata": {},
   "outputs": [],
   "source": []
  },
  {
   "cell_type": "code",
   "execution_count": null,
   "id": "2551c9fa",
   "metadata": {},
   "outputs": [],
   "source": [
    "source, target, source_pts, target_pts = gen_source_targte()\n",
    "\n",
    "voxel_size = 1\n",
    "source_ = copy.deepcopy(source).voxel_down_sample(voxel_size)\n",
    "target_ = copy.deepcopy(target).voxel_down_sample(voxel_size)\n",
    "\n",
    "start_time = time.time()\n",
    "\n",
    "gen_icp = ICP_Generalized()\n",
    "gen_icp.set_parameters(max_correspondence_distance=50)\n",
    "# cCReg = ZeroCenterRegistration()\n",
    "# cCReg.set_parameters(gen_icp)\n",
    "\n",
    "new_reg_trans, _ = gen_icp.register(copy.deepcopy(source_),\n",
    "                                  copy.deepcopy(target_) )\n",
    "\n",
    "draw_registration_result(source_, target_, new_reg_trans)\n",
    "\n",
    "# print(\":: Metric: \", RegistrationMetric.get_overlap_ratio(source_, target_, 3, new_reg_trans))\n",
    "print(\"--- %s seconds ---\" % (time.time() - start_time))"
   ]
  }
 ],
 "metadata": {
  "kernelspec": {
   "display_name": "Python 3",
   "language": "python",
   "name": "python3"
  },
  "language_info": {
   "codemirror_mode": {
    "name": "ipython",
    "version": 3
   },
   "file_extension": ".py",
   "mimetype": "text/x-python",
   "name": "python",
   "nbconvert_exporter": "python",
   "pygments_lexer": "ipython3",
   "version": "3.9.18"
  }
 },
 "nbformat": 4,
 "nbformat_minor": 5
}
